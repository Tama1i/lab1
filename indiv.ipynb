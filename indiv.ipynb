{
 "cells": [
  {
   "cell_type": "markdown",
   "id": "ecf9dd0b",
   "metadata": {},
   "source": [
    "Решить дифференциальное уравнение\n",
    "$$\n",
    "y\" + y' -6y = 0\n",
    "$$\n",
    "при\n",
    "$$\n",
    "y(0) = 1, $$\n",
    "$$\n",
    "y'(0) = 0\n",
    "$$"
   ]
  },
  {
   "cell_type": "code",
   "execution_count": 2,
   "id": "3ecec759",
   "metadata": {},
   "outputs": [],
   "source": [
    "from sympy import *"
   ]
  },
  {
   "cell_type": "code",
   "execution_count": 5,
   "id": "e60ff937",
   "metadata": {},
   "outputs": [],
   "source": [
    "x, y, z = symbols('x y z')"
   ]
  },
  {
   "cell_type": "code",
   "execution_count": 6,
   "id": "bc6fbd80",
   "metadata": {},
   "outputs": [],
   "source": [
    "f1 = Function('f')"
   ]
  },
  {
   "cell_type": "code",
   "execution_count": 7,
   "id": "39e649f2",
   "metadata": {},
   "outputs": [
    {
     "data": {
      "text/plain": [
       "sympy.core.function.UndefinedFunction"
      ]
     },
     "execution_count": 7,
     "metadata": {},
     "output_type": "execute_result"
    }
   ],
   "source": [
    "type(f1)"
   ]
  },
  {
   "cell_type": "code",
   "execution_count": null,
   "id": "45a7a7cd",
   "metadata": {},
   "outputs": [],
   "source": [
    "объявим переменрые"
   ]
  },
  {
   "cell_type": "code",
   "execution_count": 15,
   "id": "39caab08",
   "metadata": {},
   "outputs": [],
   "source": [
    "x = symbols('x')         # переменная х\n",
    "y = Function('y')(x)     # функция y(x)"
   ]
  },
  {
   "cell_type": "markdown",
   "id": "02c313b4",
   "metadata": {},
   "source": [
    "запишем уравнение "
   ]
  },
  {
   "cell_type": "code",
   "execution_count": 16,
   "id": "64d943e2",
   "metadata": {},
   "outputs": [],
   "source": [
    "q = Eq(diff(y, x, 2) + diff(y, x) -6*y, 0)   # пишем левую и правую части уравнения"
   ]
  },
  {
   "cell_type": "code",
   "execution_count": null,
   "id": "89863871",
   "metadata": {},
   "outputs": [],
   "source": [
    "dsolve - функция для решения дифференциальных уравнений"
   ]
  },
  {
   "cell_type": "code",
   "execution_count": 17,
   "id": "00532087",
   "metadata": {},
   "outputs": [],
   "source": [
    "sol = dsolve(q)"
   ]
  },
  {
   "cell_type": "markdown",
   "id": "5f20717d",
   "metadata": {},
   "source": [
    "sol.rhs - получим правую часть выражежения\n",
    "rhs - правая часть"
   ]
  },
  {
   "cell_type": "code",
   "execution_count": 18,
   "id": "4c334881",
   "metadata": {},
   "outputs": [
    {
     "data": {
      "text/latex": [
       "$\\displaystyle C_{1} e^{- 3 x} + C_{2} e^{2 x}$"
      ],
      "text/plain": [
       "C1*exp(-3*x) + C2*exp(2*x)"
      ]
     },
     "execution_count": 18,
     "metadata": {},
     "output_type": "execute_result"
    }
   ],
   "source": [
    "sol.rhs"
   ]
  },
  {
   "cell_type": "code",
   "execution_count": 19,
   "id": "1dc692f8",
   "metadata": {},
   "outputs": [],
   "source": [
    "fc = sol.rhs"
   ]
  },
  {
   "cell_type": "markdown",
   "id": "9bae9856",
   "metadata": {},
   "source": [
    "Найдем y(0)"
   ]
  },
  {
   "cell_type": "markdown",
   "id": "aff77447",
   "metadata": {},
   "source": [
    "Подставим x = 0 в выражение в переменной fc"
   ]
  },
  {
   "cell_type": "code",
   "execution_count": 20,
   "id": "3c47d82b",
   "metadata": {},
   "outputs": [
    {
     "data": {
      "text/latex": [
       "$\\displaystyle C_{1} + C_{2}$"
      ],
      "text/plain": [
       "C1 + C2"
      ]
     },
     "execution_count": 20,
     "metadata": {},
     "output_type": "execute_result"
    }
   ],
   "source": [
    "fc.subs({x:0})"
   ]
  },
  {
   "cell_type": "raw",
   "id": "04b6ef67",
   "metadata": {},
   "source": [
    "y(0) = 1 это -"
   ]
  },
  {
   "cell_type": "code",
   "execution_count": 21,
   "id": "7b9b5460",
   "metadata": {},
   "outputs": [],
   "source": [
    "q1 = Eq(fc.subs({x:0}), 1)"
   ]
  },
  {
   "cell_type": "markdown",
   "id": "a4d52966",
   "metadata": {},
   "source": [
    "Запишем второе граничное условие  y′(0)=0 , возьмем производную от выражения fc. Запишем результат в перменную dfc"
   ]
  },
  {
   "cell_type": "code",
   "execution_count": 22,
   "id": "9e72006f",
   "metadata": {},
   "outputs": [],
   "source": [
    "dfc = diff(fc, x)"
   ]
  },
  {
   "cell_type": "markdown",
   "id": "73543a19",
   "metadata": {},
   "source": [
    "Запишем второе граничное условие как уравнение"
   ]
  },
  {
   "cell_type": "code",
   "execution_count": 35,
   "id": "804cecae",
   "metadata": {},
   "outputs": [
    {
     "data": {
      "text/latex": [
       "$\\displaystyle - 3 C_{1} + 2 C_{2} = 0$"
      ],
      "text/plain": [
       "Eq(-3*C1 + 2*C2, 0)"
      ]
     },
     "execution_count": 35,
     "metadata": {},
     "output_type": "execute_result"
    }
   ],
   "source": [
    "q2 = Eq(dfc.subs({x:0}), 0)\n",
    "q2"
   ]
  },
  {
   "cell_type": "markdown",
   "id": "85983280",
   "metadata": {},
   "source": [
    "Решим систему\n",
    "\n",
    "$$\n",
    "\\begin{cases}\n",
    "    C1 + C2 = 1\\\\\n",
    "    -3C1 + 2C2 = 1\n",
    "\\end{cases}\n",
    "$$"
   ]
  },
  {
   "cell_type": "code",
   "execution_count": 38,
   "id": "4bd5dac3",
   "metadata": {},
   "outputs": [],
   "source": [
    "csol = solve([q1, q2], dict=True)"
   ]
  },
  {
   "cell_type": "markdown",
   "id": "6a272246",
   "metadata": {},
   "source": [
    "Подставим найденные значения констант в решение дифференциального уравнения и получим ответ"
   ]
  },
  {
   "cell_type": "code",
   "execution_count": 36,
   "id": "e70b50a8",
   "metadata": {},
   "outputs": [
    {
     "data": {
      "text/latex": [
       "$\\displaystyle \\frac{3 e^{2 x}}{5} + \\frac{2 e^{- 3 x}}{5}$"
      ],
      "text/plain": [
       "3*exp(2*x)/5 + 2*exp(-3*x)/5"
      ]
     },
     "execution_count": 36,
     "metadata": {},
     "output_type": "execute_result"
    }
   ],
   "source": [
    "fres = fc.subs(csol[0])\n",
    "fres"
   ]
  },
  {
   "cell_type": "code",
   "execution_count": null,
   "id": "7f34da40",
   "metadata": {},
   "outputs": [],
   "source": []
  }
 ],
 "metadata": {
  "kernelspec": {
   "display_name": "Python 3 (ipykernel)",
   "language": "python",
   "name": "python3"
  },
  "language_info": {
   "codemirror_mode": {
    "name": "ipython",
    "version": 3
   },
   "file_extension": ".py",
   "mimetype": "text/x-python",
   "name": "python",
   "nbconvert_exporter": "python",
   "pygments_lexer": "ipython3",
   "version": "3.9.13"
  }
 },
 "nbformat": 4,
 "nbformat_minor": 5
}
