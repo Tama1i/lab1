{
 "cells": [
  {
   "attachments": {},
   "cell_type": "markdown",
   "id": "283f6e58",
   "metadata": {},
   "source": [
    "Необходимо скомбинировать продукты питания так, чтобы их концентрация была оптимальной и соответствовала нормам содержания витаминов в пище. \n",
    "\n",
    "Обозначим оптимальную концентрацию (количество единиц) для продукта 1 как x1, для продукта 2 — как x2 и так далее. Так как мы будем смешивать продукты, то для каждого витамина (столбца таблицы) можно просто просуммировать значения, по всем продуктам. Учитывая, что сбалансированная диета должна включать 170 единиц витамина А, то, используя данные из столбца «Витамин А», составим уравнение:\n",
    "\n",
    "Продукт\tВитамин A\tВитамин B\tВитамин C\tВитамин D\tВитамин E\n",
    "1\t1\t10\t1\t2\t2\n",
    "2\t9\t1\t0\t1\t1\n",
    "3\t2\t2\t5\t1\t2\n",
    "4\t1\t1\t1\t2\t13\n",
    "5\t1\t1\t1\t9\t2\n",
    "\n",
    "Нам даны нормы содержания витаминов в пище:\n",
    "\n",
    "170 единиц витамина А;\n",
    "180 единиц витамина B;\n",
    "140 единиц витамина С;\n",
    "180 единиц витамина D;\n",
    "350 единиц витамина Е.\n",
    "\n",
    "\n",
    "Обозначим оптимальную концентрацию (количество единиц) для продукта 1 как x1, для продукта 2 — как x2 и так далее. Так как мы будем смешивать продукты, то для каждого витамина (столбца таблицы) можно просто просуммировать значения, по всем продуктам.\n",
    "\n",
    "Вычислить количество продуктов решив СЛУ"
   ]
  },
  {
   "cell_type": "markdown",
   "id": "a0922965",
   "metadata": {},
   "source": [
    "$$ \n",
    "\\left\\{ \n",
    "    \\begin{matrix} \n",
    "    x1 + 9x2 + 2x3 +x4 + x5 = 170 \\\\ \n",
    "    10x1 + x2 + 2x3 + x4 + x5 = 180\\\\\n",
    "    x1 + 5x3 + x4 + x5 = 140\\\\\n",
    "    2x1 + x2 + x3 + 2x4 + 9x5 = 180\\\\\n",
    "    2x1 + x2 + 2x3 + 13x4 + 2x5 = 350\n",
    "    \\end{matrix} \n",
    "\\right. \n",
    "$$"
   ]
  },
  {
   "cell_type": "code",
   "execution_count": 1,
   "id": "850c0177",
   "metadata": {},
   "outputs": [],
   "source": [
    "import numpy as np\n",
    "from scipy.linalg import solve"
   ]
  },
  {
   "cell_type": "code",
   "execution_count": 2,
   "id": "45178bcd",
   "metadata": {},
   "outputs": [],
   "source": [
    "A = np.array(\n",
    "    [\n",
    "                [1, 9, 2, 1, 1],\n",
    "                [10, 1, 2, 1, 1],\n",
    "                [1, 0, 5, 1, 1],\n",
    "                [2, 1, 1, 2, 9],\n",
    "                [2, 1, 2, 13, 2],\n",
    "            ]\n",
    "     )"
   ]
  },
  {
   "cell_type": "code",
   "execution_count": 3,
   "id": "a773b854",
   "metadata": {},
   "outputs": [],
   "source": [
    "b = np.array([170, 180, 140, 180, 350]).reshape((5, 1))"
   ]
  },
  {
   "cell_type": "code",
   "execution_count": 4,
   "id": "bb4a1584",
   "metadata": {},
   "outputs": [],
   "source": [
    "x = solve(A, b)"
   ]
  },
  {
   "cell_type": "code",
   "execution_count": 5,
   "id": "1100a069",
   "metadata": {},
   "outputs": [
    {
     "data": {
      "text/plain": [
       "array([[10.],\n",
       "       [10.],\n",
       "       [20.],\n",
       "       [20.],\n",
       "       [10.]])"
      ]
     },
     "execution_count": 5,
     "metadata": {},
     "output_type": "execute_result"
    }
   ],
   "source": [
    "x"
   ]
  },
  {
   "cell_type": "code",
   "execution_count": null,
   "id": "4a0aae3d",
   "metadata": {},
   "outputs": [],
   "source": []
  }
 ],
 "metadata": {
  "kernelspec": {
   "display_name": "Python 3 (ipykernel)",
   "language": "python",
   "name": "python3"
  },
  "language_info": {
   "codemirror_mode": {
    "name": "ipython",
    "version": 3
   },
   "file_extension": ".py",
   "mimetype": "text/x-python",
   "name": "python",
   "nbconvert_exporter": "python",
   "pygments_lexer": "ipython3",
   "version": "3.9.13"
  }
 },
 "nbformat": 4,
 "nbformat_minor": 5
}
