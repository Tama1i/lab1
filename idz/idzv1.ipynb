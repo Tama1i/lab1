{
 "cells": [
  {
   "cell_type": "markdown",
   "id": "64e98183",
   "metadata": {},
   "source": [
    "Гидравлическая балансировка сети\n",
    "\n",
    "Постановка задачи\n",
    "Рассмотрим гидравлическую сеть, состоящую из насоса, подающего трубопровода, нескольких параллельно подключённых потребителей и обратного трубопровода:\n",
    "\n",
    "H - напор насоса ^Нi,j - падение давления на участке сети, Ri,j - гидравлическое сопротивление участка сети, Qi,j - объёмный расход проходящий через участок сети \n",
    "\n",
    "Рассмотрим сеть из трёх потребителей. На первом этапе найдём значение напора насоса, величина которого будет достаточной для обеспечения через каждый потребитель расхода не менее требуемого.\n",
    "\n",
    "Найти сопротивление и доп.сопротивление для каждой ветви\n"
   ]
  },
  {
   "cell_type": "code",
   "execution_count": 4,
   "id": "f8dbe2df",
   "metadata": {},
   "outputs": [],
   "source": [
    "import numpy as np"
   ]
  },
  {
   "cell_type": "code",
   "execution_count": 5,
   "id": "fd6bd705",
   "metadata": {},
   "outputs": [],
   "source": [
    "N = 3 # n потребителей\n",
    "Qs = np.zeros((3, N), dtype = float)\n",
    "#значения расхода для кааждого потребителя Q\n",
    "Qs[1,:] = [50, 20, 100]"
   ]
  },
  {
   "cell_type": "code",
   "execution_count": 6,
   "id": "f529ab73",
   "metadata": {},
   "outputs": [],
   "source": [
    "#гидравлическое сопротивление участков сети R\n",
    "Rs = np.array([[0.0002, 0.0002, 0.0002],\n",
    "              [0.0004, 0.0004, 0.0004],\n",
    "              [0.0005, 0.0005, 0.0005]], dtype = float)"
   ]
  },
  {
   "cell_type": "code",
   "execution_count": 7,
   "id": "d9337eb5",
   "metadata": {},
   "outputs": [
    {
     "data": {
      "text/plain": [
       "array([[170., 120., 100.],\n",
       "       [ 50.,  20., 100.],\n",
       "       [170., 120., 100.]])"
      ]
     },
     "execution_count": 7,
     "metadata": {},
     "output_type": "execute_result"
    }
   ],
   "source": [
    "#значения расходов через остальные участкки сети\n",
    "tmp = 0\n",
    "for j in range(N-1, -1, -1):\n",
    "    tmp += Qs[1, j]\n",
    "    Qs[0, j] = Qs[2, j] = tmp\n",
    "Qs "
   ]
  },
  {
   "cell_type": "code",
   "execution_count": 8,
   "id": "5c9eb23c",
   "metadata": {},
   "outputs": [
    {
     "data": {
      "text/plain": [
       "array([[20.23, 30.31, 37.31],\n",
       "       [21.23, 30.47, 41.31]])"
      ]
     },
     "execution_count": 8,
     "metadata": {},
     "output_type": "execute_result"
    }
   ],
   "source": [
    "dHs = np.zeros((2,N), dtype = float)\n",
    "#dHs[0,j] - потери давления в подводящем и отводящем трубопроводах потребителя j\n",
    "#dHs[1,j] - потери давления в контуре потребителя j (dHs[0,j] + потери давления в линии потребителя)\n",
    "tmp = 0\n",
    "for j in range(N):\n",
    "    tmp += (Rs[0,j] + Rs[2,j]) * Qs[0,j] ** 2\n",
    "    dHs[0,j] = tmp\n",
    "    dHs[1,j] = dHs[0,j] + Rs[1,j] * Qs[1,j] ** 2\n",
    "dHs "
   ]
  },
  {
   "cell_type": "code",
   "execution_count": 16,
   "id": "55c932e7",
   "metadata": {},
   "outputs": [
    {
     "name": "stdout",
     "output_type": "stream",
     "text": [
      "H 41.31\n"
     ]
    }
   ],
   "source": [
    "#Напор насоса равен максимальному значению в массиве потерь давления в контурах потребителей\n",
    "H = dHs[1,:].max()\n",
    "print(\"H\", H)"
   ]
  },
  {
   "cell_type": "markdown",
   "id": "db61c2f0",
   "metadata": {},
   "source": [
    "Если мы установим насос с выбранными парарметрами, то расходы в линиях потребителей будут отличаться от требуемых значений (см. [1]). Для балансировки системы необходимо увеличить сопротивления в линиях потребителей таким образом, чтобы падение давления на потребителе при требуемом расходе равнялось \n",
    "^H1,j = H - ^Hj.тр \n",
    "Hj.тр - потери давления в подводящем и отводящем трубопроводе потребителя j."
   ]
  },
  {
   "cell_type": "markdown",
   "id": "4dadfe08",
   "metadata": {},
   "source": [
    "Сопротивления при которых через потребители будет проходить требуемый расход\n",
    "\n",
    "R = (H - Hj.тр) / Q \n",
    "Q - значения расходов "
   ]
  },
  {
   "cell_type": "code",
   "execution_count": 15,
   "id": "7eab358d",
   "metadata": {},
   "outputs": [
    {
     "name": "stdout",
     "output_type": "stream",
     "text": [
      "R [0.008432 0.0275   0.0004  ]\n"
     ]
    }
   ],
   "source": [
    "#Сопротивления при которых через потребители будет проходить требуемый расход\n",
    "Rs_b = (H - dHs[0,:]) / Qs[1,:] ** 2\n",
    "print(\"R\",Rs_b)"
   ]
  },
  {
   "cell_type": "markdown",
   "id": "3873963e",
   "metadata": {},
   "source": [
    "Дополнительное (балансировочное) спротивлений для ветви\n",
    "Rд = R - R1\n",
    "R1 - гидравлическое сопротивление участка цепи"
   ]
  },
  {
   "cell_type": "code",
   "execution_count": 14,
   "id": "99e8030c",
   "metadata": {},
   "outputs": [
    {
     "name": "stdout",
     "output_type": "stream",
     "text": [
      "Rд [0.008032 0.0271   0.      ]\n"
     ]
    }
   ],
   "source": [
    "#Найдём значения дополнительных (балансировочных) спротивлений для каждой ветви\n",
    "dRs = Rs_b - Rs[1,:]\n",
    "print(\"Rд\",dRs)"
   ]
  },
  {
   "cell_type": "code",
   "execution_count": null,
   "id": "b7a6e8df",
   "metadata": {},
   "outputs": [],
   "source": []
  }
 ],
 "metadata": {
  "kernelspec": {
   "display_name": "Python 3 (ipykernel)",
   "language": "python",
   "name": "python3"
  },
  "language_info": {
   "codemirror_mode": {
    "name": "ipython",
    "version": 3
   },
   "file_extension": ".py",
   "mimetype": "text/x-python",
   "name": "python",
   "nbconvert_exporter": "python",
   "pygments_lexer": "ipython3",
   "version": "3.9.13"
  }
 },
 "nbformat": 4,
 "nbformat_minor": 5
}
